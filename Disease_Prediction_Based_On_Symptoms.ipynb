{
  "nbformat": 4,
  "nbformat_minor": 0,
  "metadata": {
    "colab": {
      "provenance": [],
      "authorship_tag": "ABX9TyPxcshSj8cwUUQdx1u19MDq",
      "include_colab_link": true
    },
    "kernelspec": {
      "name": "python3",
      "display_name": "Python 3"
    },
    "language_info": {
      "name": "python"
    }
  },
  "cells": [
    {
      "cell_type": "markdown",
      "metadata": {
        "id": "view-in-github",
        "colab_type": "text"
      },
      "source": [
        "<a href=\"https://colab.research.google.com/github/CrystalFireSword/MachineLearningCohortAssignments/blob/main/Disease_Prediction_Based_On_Symptoms.ipynb\" target=\"_parent\"><img src=\"https://colab.research.google.com/assets/colab-badge.svg\" alt=\"Open In Colab\"/></a>"
      ]
    },
    {
      "cell_type": "code",
      "execution_count": null,
      "metadata": {
        "colab": {
          "base_uri": "https://localhost:8080/"
        },
        "id": "c3haQ2qKbror",
        "outputId": "78727c3f-a01e-4203-df83-08621b7e5e5a"
      },
      "outputs": [
        {
          "output_type": "stream",
          "name": "stdout",
          "text": [
            "   Unnamed: 0      label                                               text\n",
            "0           0  Psoriasis  I have been experiencing a skin rash on my arm...\n",
            "1           1  Psoriasis  My skin has been peeling, especially on my kne...\n",
            "2           2  Psoriasis  I have been experiencing joint pain in my fing...\n",
            "3           3  Psoriasis  There is a silver like dusting on my skin, esp...\n",
            "4           4  Psoriasis  My nails have small dents or pits in them, and...\n"
          ]
        }
      ],
      "source": [
        "import pandas as pd\n",
        "import numpy as np\n",
        "import matplotlib.pyplot as plt\n",
        "import seaborn as sns\n",
        "from sklearn.model_selection import train_test_split\n",
        "from sklearn.preprocessing import LabelEncoder\n",
        "from sklearn.linear_model import LogisticRegression\n",
        "from sklearn.tree import DecisionTreeClassifier\n",
        "from sklearn.ensemble import RandomForestClassifier\n",
        "from sklearn.neighbors import KNeighborsClassifier\n",
        "from sklearn.svm import SVC\n",
        "from sklearn.metrics import accuracy_score, classification_report, confusion_matrix\n",
        "df = pd.read_csv(\"Symptom2Disease.csv\")\n",
        "print(df.head())"
      ]
    },
    {
      "cell_type": "code",
      "source": [
        "print(df.isnull().sum()) # missing values\n",
        "label_encoder = LabelEncoder()\n",
        "df['label_encoded'] = label_encoder.fit_transform(df['label'])\n",
        "X = df['text']  # symptom descriptions\n",
        "y = df['label_encoded']\n",
        "X_train, X_test, y_train, y_test = train_test_split(X, y, test_size=0.2, random_state=42)"
      ],
      "metadata": {
        "colab": {
          "base_uri": "https://localhost:8080/"
        },
        "id": "kyX9ongqcrcS",
        "outputId": "5d68b8a9-b398-4667-c855-c1da3c1b557b"
      },
      "execution_count": null,
      "outputs": [
        {
          "output_type": "stream",
          "name": "stdout",
          "text": [
            "Unnamed: 0    0\n",
            "label         0\n",
            "text          0\n",
            "dtype: int64\n"
          ]
        }
      ]
    },
    {
      "cell_type": "code",
      "source": [
        "from sklearn.feature_extraction.text import TfidfVectorizer\n",
        "vectorizer = TfidfVectorizer(max_features=1000)\n",
        "X_train_vec = vectorizer.fit_transform(X_train)\n",
        "X_test_vec = vectorizer.transform(X_test)"
      ],
      "metadata": {
        "id": "A16rWDnic-0J"
      },
      "execution_count": null,
      "outputs": []
    },
    {
      "cell_type": "code",
      "source": [
        "models = {\n",
        "    \"Logistic Regression\": LogisticRegression(max_iter=1000),\n",
        "    \"Decision Tree\": DecisionTreeClassifier(),\n",
        "    \"Random Forest\": RandomForestClassifier(n_estimators=100),\n",
        "    \"KNN\": KNeighborsClassifier(n_neighbors=5),\n",
        "    \"SVM\": SVC(kernel='linear')\n",
        "}\n",
        "results = {}\n",
        "for name, model in models.items():\n",
        "    model.fit(X_train_vec, y_train)\n",
        "    y_pred = model.predict(X_test_vec)\n",
        "    accuracy = accuracy_score(y_test, y_pred)\n",
        "    results[name] = accuracy\n",
        "    print(f\"{name} Accuracy: {accuracy:.2f}\")\n",
        "    print(classification_report(y_test, y_pred, target_names=label_encoder.classes_))\n",
        "    print(\"#####################################\")"
      ],
      "metadata": {
        "colab": {
          "base_uri": "https://localhost:8080/"
        },
        "id": "eO_GOqy3dCnq",
        "outputId": "67d48046-8395-4975-c7a0-ccbb7842b4b7"
      },
      "execution_count": null,
      "outputs": [
        {
          "output_type": "stream",
          "name": "stdout",
          "text": [
            "Logistic Regression Accuracy: 0.97\n",
            "                                 precision    recall  f1-score   support\n",
            "\n",
            "                           Acne       1.00      1.00      1.00         7\n",
            "                      Arthritis       1.00      1.00      1.00        10\n",
            "               Bronchial Asthma       1.00      1.00      1.00        11\n",
            "           Cervical spondylosis       1.00      1.00      1.00         7\n",
            "                    Chicken pox       1.00      0.92      0.96        12\n",
            "                    Common Cold       1.00      1.00      1.00        12\n",
            "                         Dengue       1.00      0.83      0.91        12\n",
            "          Dimorphic Hemorrhoids       1.00      1.00      1.00         7\n",
            "               Fungal infection       1.00      1.00      1.00        13\n",
            "                   Hypertension       1.00      1.00      1.00        10\n",
            "                       Impetigo       1.00      1.00      1.00        11\n",
            "                       Jaundice       1.00      1.00      1.00        11\n",
            "                        Malaria       1.00      1.00      1.00        11\n",
            "                       Migraine       1.00      1.00      1.00        10\n",
            "                      Pneumonia       1.00      1.00      1.00        11\n",
            "                      Psoriasis       0.83      0.83      0.83         6\n",
            "                        Typhoid       0.82      1.00      0.90         9\n",
            "                 Varicose Veins       1.00      1.00      1.00        12\n",
            "                        allergy       1.00      1.00      1.00        12\n",
            "                       diabetes       1.00      1.00      1.00         8\n",
            "                  drug reaction       1.00      1.00      1.00         5\n",
            "gastroesophageal reflux disease       0.85      1.00      0.92        11\n",
            "           peptic ulcer disease       0.90      0.82      0.86        11\n",
            "        urinary tract infection       1.00      1.00      1.00        11\n",
            "\n",
            "                       accuracy                           0.97       240\n",
            "                      macro avg       0.97      0.98      0.97       240\n",
            "                   weighted avg       0.98      0.97      0.97       240\n",
            "\n",
            "---\n",
            "Decision Tree Accuracy: 0.77\n",
            "                                 precision    recall  f1-score   support\n",
            "\n",
            "                           Acne       1.00      1.00      1.00         7\n",
            "                      Arthritis       1.00      1.00      1.00        10\n",
            "               Bronchial Asthma       1.00      0.82      0.90        11\n",
            "           Cervical spondylosis       0.83      0.71      0.77         7\n",
            "                    Chicken pox       0.40      0.50      0.44        12\n",
            "                    Common Cold       0.50      0.75      0.60        12\n",
            "                         Dengue       0.67      0.50      0.57        12\n",
            "          Dimorphic Hemorrhoids       1.00      1.00      1.00         7\n",
            "               Fungal infection       0.92      0.92      0.92        13\n",
            "                   Hypertension       0.83      0.50      0.62        10\n",
            "                       Impetigo       0.83      0.91      0.87        11\n",
            "                       Jaundice       1.00      1.00      1.00        11\n",
            "                        Malaria       1.00      1.00      1.00        11\n",
            "                       Migraine       1.00      0.80      0.89        10\n",
            "                      Pneumonia       1.00      1.00      1.00        11\n",
            "                      Psoriasis       0.67      0.67      0.67         6\n",
            "                        Typhoid       0.55      0.67      0.60         9\n",
            "                 Varicose Veins       1.00      1.00      1.00        12\n",
            "                        allergy       0.38      0.25      0.30        12\n",
            "                       diabetes       0.40      0.50      0.44         8\n",
            "                  drug reaction       0.36      0.80      0.50         5\n",
            "gastroesophageal reflux disease       0.67      0.73      0.70        11\n",
            "           peptic ulcer disease       1.00      0.55      0.71        11\n",
            "        urinary tract infection       0.91      0.91      0.91        11\n",
            "\n",
            "                       accuracy                           0.77       240\n",
            "                      macro avg       0.79      0.77      0.77       240\n",
            "                   weighted avg       0.80      0.77      0.77       240\n",
            "\n",
            "---\n",
            "Random Forest Accuracy: 0.95\n",
            "                                 precision    recall  f1-score   support\n",
            "\n",
            "                           Acne       1.00      1.00      1.00         7\n",
            "                      Arthritis       0.91      1.00      0.95        10\n",
            "               Bronchial Asthma       0.92      1.00      0.96        11\n",
            "           Cervical spondylosis       1.00      1.00      1.00         7\n",
            "                    Chicken pox       0.90      0.75      0.82        12\n",
            "                    Common Cold       0.92      1.00      0.96        12\n",
            "                         Dengue       1.00      0.67      0.80        12\n",
            "          Dimorphic Hemorrhoids       1.00      1.00      1.00         7\n",
            "               Fungal infection       1.00      1.00      1.00        13\n",
            "                   Hypertension       1.00      1.00      1.00        10\n",
            "                       Impetigo       1.00      1.00      1.00        11\n",
            "                       Jaundice       1.00      1.00      1.00        11\n",
            "                        Malaria       1.00      1.00      1.00        11\n",
            "                       Migraine       1.00      1.00      1.00        10\n",
            "                      Pneumonia       1.00      0.91      0.95        11\n",
            "                      Psoriasis       0.71      0.83      0.77         6\n",
            "                        Typhoid       0.82      1.00      0.90         9\n",
            "                 Varicose Veins       0.92      1.00      0.96        12\n",
            "                        allergy       1.00      0.92      0.96        12\n",
            "                       diabetes       1.00      1.00      1.00         8\n",
            "                  drug reaction       0.83      1.00      0.91         5\n",
            "gastroesophageal reflux disease       0.79      1.00      0.88        11\n",
            "           peptic ulcer disease       1.00      0.82      0.90        11\n",
            "        urinary tract infection       1.00      0.91      0.95        11\n",
            "\n",
            "                       accuracy                           0.95       240\n",
            "                      macro avg       0.95      0.95      0.94       240\n",
            "                   weighted avg       0.95      0.95      0.94       240\n",
            "\n",
            "---\n",
            "KNN Accuracy: 0.95\n",
            "                                 precision    recall  f1-score   support\n",
            "\n",
            "                           Acne       0.88      1.00      0.93         7\n",
            "                      Arthritis       1.00      1.00      1.00        10\n",
            "               Bronchial Asthma       1.00      1.00      1.00        11\n",
            "           Cervical spondylosis       1.00      1.00      1.00         7\n",
            "                    Chicken pox       0.85      0.92      0.88        12\n",
            "                    Common Cold       1.00      1.00      1.00        12\n",
            "                         Dengue       0.77      0.83      0.80        12\n",
            "          Dimorphic Hemorrhoids       1.00      1.00      1.00         7\n",
            "               Fungal infection       1.00      1.00      1.00        13\n",
            "                   Hypertension       1.00      1.00      1.00        10\n",
            "                       Impetigo       1.00      0.91      0.95        11\n",
            "                       Jaundice       0.92      1.00      0.96        11\n",
            "                        Malaria       0.92      1.00      0.96        11\n",
            "                       Migraine       1.00      1.00      1.00        10\n",
            "                      Pneumonia       1.00      1.00      1.00        11\n",
            "                      Psoriasis       1.00      0.67      0.80         6\n",
            "                        Typhoid       0.88      0.78      0.82         9\n",
            "                 Varicose Veins       1.00      0.92      0.96        12\n",
            "                        allergy       1.00      1.00      1.00        12\n",
            "                       diabetes       0.89      1.00      0.94         8\n",
            "                  drug reaction       1.00      1.00      1.00         5\n",
            "gastroesophageal reflux disease       0.92      1.00      0.96        11\n",
            "           peptic ulcer disease       1.00      0.91      0.95        11\n",
            "        urinary tract infection       1.00      0.91      0.95        11\n",
            "\n",
            "                       accuracy                           0.95       240\n",
            "                      macro avg       0.96      0.95      0.95       240\n",
            "                   weighted avg       0.96      0.95      0.95       240\n",
            "\n",
            "---\n",
            "SVM Accuracy: 0.99\n",
            "                                 precision    recall  f1-score   support\n",
            "\n",
            "                           Acne       1.00      1.00      1.00         7\n",
            "                      Arthritis       1.00      1.00      1.00        10\n",
            "               Bronchial Asthma       1.00      1.00      1.00        11\n",
            "           Cervical spondylosis       1.00      1.00      1.00         7\n",
            "                    Chicken pox       0.92      1.00      0.96        12\n",
            "                    Common Cold       1.00      1.00      1.00        12\n",
            "                         Dengue       1.00      0.92      0.96        12\n",
            "          Dimorphic Hemorrhoids       1.00      1.00      1.00         7\n",
            "               Fungal infection       1.00      1.00      1.00        13\n",
            "                   Hypertension       1.00      1.00      1.00        10\n",
            "                       Impetigo       1.00      1.00      1.00        11\n",
            "                       Jaundice       1.00      1.00      1.00        11\n",
            "                        Malaria       1.00      1.00      1.00        11\n",
            "                       Migraine       1.00      1.00      1.00        10\n",
            "                      Pneumonia       1.00      1.00      1.00        11\n",
            "                      Psoriasis       1.00      0.83      0.91         6\n",
            "                        Typhoid       1.00      1.00      1.00         9\n",
            "                 Varicose Veins       1.00      1.00      1.00        12\n",
            "                        allergy       1.00      1.00      1.00        12\n",
            "                       diabetes       1.00      1.00      1.00         8\n",
            "                  drug reaction       1.00      1.00      1.00         5\n",
            "gastroesophageal reflux disease       0.92      1.00      0.96        11\n",
            "           peptic ulcer disease       0.91      0.91      0.91        11\n",
            "        urinary tract infection       1.00      1.00      1.00        11\n",
            "\n",
            "                       accuracy                           0.99       240\n",
            "                      macro avg       0.99      0.99      0.99       240\n",
            "                   weighted avg       0.99      0.99      0.99       240\n",
            "\n",
            "---\n"
          ]
        }
      ]
    },
    {
      "cell_type": "code",
      "source": [
        "plt.figure(figsize=(10, 6))\n",
        "sns.barplot(x=list(results.keys()), y=list(results.values()), palette=\"pastel\")\n",
        "plt.title(\"Comparison of ML Models for Disease Prediction\")\n",
        "plt.xlabel(\"Algorithm\")\n",
        "plt.ylabel(\"Accuracy\")\n",
        "plt.ylim(0, 1)\n",
        "plt.xticks(rotation=45)\n",
        "plt.show()"
      ],
      "metadata": {
        "colab": {
          "base_uri": "https://localhost:8080/",
          "height": 609
        },
        "id": "3TRDyS25dH1M",
        "outputId": "5a24efa8-1b75-4a54-8c77-684985c965cf"
      },
      "execution_count": null,
      "outputs": [
        {
          "output_type": "stream",
          "name": "stderr",
          "text": [
            "<ipython-input-89-2fa5471fc605>:2: FutureWarning: \n",
            "\n",
            "Passing `palette` without assigning `hue` is deprecated and will be removed in v0.14.0. Assign the `x` variable to `hue` and set `legend=False` for the same effect.\n",
            "\n",
            "  sns.barplot(x=list(results.keys()), y=list(results.values()), palette=\"pastel\")\n"
          ]
        },
        {
          "output_type": "display_data",
          "data": {
            "text/plain": [
              "<Figure size 1000x600 with 1 Axes>"
            ],
            "image/png": "[encoded data removed]"
          },
          "metadata": {}
        }
      ]
    },
    {
      "cell_type": "code",
      "source": [
        "def recommend_disease(symptoms):\n",
        "    symptoms_vec = vectorizer.transform([symptoms])\n",
        "    prediction_lr = models[\"Logistic Regression\"].predict(symptoms_vec)\n",
        "    prediction_dt = models[\"Decision Tree\"].predict(symptoms_vec)\n",
        "    prediction_rf = models[\"Random Forest\"].predict(symptoms_vec)\n",
        "    prediction_knn = models[\"KNN\"].predict(symptoms_vec)\n",
        "    prediction_svm = models[\"SVM\"].predict(symptoms_vec)\n",
        "    disease_lr = label_encoder.inverse_transform(prediction_lr)[0]\n",
        "    disease_dt = label_encoder.inverse_transform(prediction_dt)[0]\n",
        "    disease_rf = label_encoder.inverse_transform(prediction_rf)[0]\n",
        "    disease_knn = label_encoder.inverse_transform(prediction_knn)[0]\n",
        "    disease_svm = label_encoder.inverse_transform(prediction_svm)[0]\n",
        "    print(\"\\n|||Symptoms:\", symptoms)\n",
        "    print(\"\\nDisease Predictions from Different Models:\")\n",
        "    print(f\"a) Logistic Regression: {disease_lr}\")\n",
        "    print(f\"b) Decision Tree: {disease_dt}\")\n",
        "    print(f\"c) Random Forest: {disease_rf}\")\n",
        "    print(f\"d) K-Nearest Neighbors: {disease_knn}\")\n",
        "    print(f\"e) Support Vector Machine: {disease_svm}\")\n",
        "    predictions = [disease_lr, disease_dt, disease_rf, disease_knn, disease_svm]\n",
        "    final_prediction = max(set(predictions), key=predictions.count)\n",
        "    print(f\"\\n   Final Recommendation (Majority Vote): {final_prediction}\")\n",
        "\n",
        "    return final_prediction\n",
        "\n",
        "\n",
        "recommend_disease(\"I have a fever, headache, and fatigue\")\n",
        "recommend_disease(\"My nails pain\")\n",
        "recommend_disease(\"There are red and gray pigments in my skin\")\n",
        "recommend_disease(\"I feel burning sensation in my throat\")\n",
        "recommend_disease(\"I am unable to sleep, my eyes are feeling pressure\")\n",
        "recommend_disease(\"My head is severely in pain with frequent nose block and sneezing\")\n",
        "recommend_disease(\"My knees and muscles near the ankle pain\")\n",
        "recommend_disease(\"I feel cold and shivering sensation\")\n"
      ],
      "metadata": {
        "colab": {
          "base_uri": "https://localhost:8080/",
          "height": 1000
        },
        "id": "RCh_pLzbdLh0",
        "outputId": "b8a9386c-18cc-4136-d9fc-a91766ef3f16"
      },
      "execution_count": null,
      "outputs": [
        {
          "output_type": "stream",
          "name": "stdout",
          "text": [
            "\n",
            "|||Symptoms: I have a fever, headache, and fatigue\n",
            "\n",
            "Disease Predictions from Different Models:\n",
            "a) Logistic Regression: Chicken pox\n",
            "b) Decision Tree: Chicken pox\n",
            "c) Random Forest: Chicken pox\n",
            "d) K-Nearest Neighbors: Jaundice\n",
            "e) Support Vector Machine: Chicken pox\n",
            "\n",
            "   Final Recommendation (Majority Vote): Chicken pox\n",
            "\n",
            "|||Symptoms: My nails pain\n",
            "\n",
            "Disease Predictions from Different Models:\n",
            "a) Logistic Regression: Psoriasis\n",
            "b) Decision Tree: Psoriasis\n",
            "c) Random Forest: drug reaction\n",
            "d) K-Nearest Neighbors: Psoriasis\n",
            "e) Support Vector Machine: Psoriasis\n",
            "\n",
            "   Final Recommendation (Majority Vote): Psoriasis\n",
            "\n",
            "|||Symptoms: There are red and gray pigments in my skin\n",
            "\n",
            "Disease Predictions from Different Models:\n",
            "a) Logistic Regression: Fungal infection\n",
            "b) Decision Tree: Fungal infection\n",
            "c) Random Forest: Fungal infection\n",
            "d) K-Nearest Neighbors: Fungal infection\n",
            "e) Support Vector Machine: Fungal infection\n",
            "\n",
            "   Final Recommendation (Majority Vote): Fungal infection\n",
            "\n",
            "|||Symptoms: I feel burning sensation in my throat\n",
            "\n",
            "Disease Predictions from Different Models:\n",
            "a) Logistic Regression: gastroesophageal reflux disease\n",
            "b) Decision Tree: gastroesophageal reflux disease\n",
            "c) Random Forest: gastroesophageal reflux disease\n",
            "d) K-Nearest Neighbors: peptic ulcer disease\n",
            "e) Support Vector Machine: peptic ulcer disease\n",
            "\n",
            "   Final Recommendation (Majority Vote): gastroesophageal reflux disease\n",
            "\n",
            "|||Symptoms: I am unable to sleep, my eyes are feeling pressure\n",
            "\n",
            "Disease Predictions from Different Models:\n",
            "a) Logistic Regression: Common Cold\n",
            "b) Decision Tree: drug reaction\n",
            "c) Random Forest: drug reaction\n",
            "d) K-Nearest Neighbors: Common Cold\n",
            "e) Support Vector Machine: Chicken pox\n",
            "\n",
            "   Final Recommendation (Majority Vote): Common Cold\n",
            "\n",
            "|||Symptoms: My head is severely in pain with frequent nose block and sneezing\n",
            "\n",
            "Disease Predictions from Different Models:\n",
            "a) Logistic Regression: Common Cold\n",
            "b) Decision Tree: drug reaction\n",
            "c) Random Forest: drug reaction\n",
            "d) K-Nearest Neighbors: Common Cold\n",
            "e) Support Vector Machine: Common Cold\n",
            "\n",
            "   Final Recommendation (Majority Vote): Common Cold\n",
            "\n",
            "|||Symptoms: My knees and muscles near the ankle pain\n",
            "\n",
            "Disease Predictions from Different Models:\n",
            "a) Logistic Regression: Psoriasis\n",
            "b) Decision Tree: Chicken pox\n",
            "c) Random Forest: Dengue\n",
            "d) K-Nearest Neighbors: Psoriasis\n",
            "e) Support Vector Machine: Impetigo\n",
            "\n",
            "   Final Recommendation (Majority Vote): Psoriasis\n",
            "\n",
            "|||Symptoms: I feel cold and shivering sensation\n",
            "\n",
            "Disease Predictions from Different Models:\n",
            "a) Logistic Regression: drug reaction\n",
            "b) Decision Tree: drug reaction\n",
            "c) Random Forest: drug reaction\n",
            "d) K-Nearest Neighbors: Common Cold\n",
            "e) Support Vector Machine: drug reaction\n",
            "\n",
            "   Final Recommendation (Majority Vote): drug reaction\n"
          ]
        },
        {
          "output_type": "execute_result",
          "data": {
            "text/plain": [
              "'drug reaction'"
            ],
            "application/vnd.google.colaboratory.intrinsic+json": {
              "type": "string"
            }
          },
          "metadata": {},
          "execution_count": 95
        }
      ]
    },
    {
      "cell_type": "markdown",
      "source": [
        "Inference:\n",
        "1. The accuracy is heavily dependent on the words used as the models tokenize these words.\n",
        "2. Both the decision tree and random forest give \"drug reaction\" when they see something unfamiliar\n",
        "3. The models do sensibly when the symptoms are detailed and familiar to the model and the dataset in general.\n",
        "4. Putting all models together and using them together ensures that the individual shortcomings of each model do not affect the final result heavily."
      ],
      "metadata": {
        "id": "SXEnR9cygM_h"
      }
    },
    {
      "cell_type": "code",
      "source": [],
      "metadata": {
        "id": "nmgGhV0sgOZy"
      },
      "execution_count": null,
      "outputs": []
    }
  ]
}